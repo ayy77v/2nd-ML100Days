{
 "cells": [
  {
   "cell_type": "markdown",
   "metadata": {},
   "source": [
    "### 延續課堂實作第二題\n",
    "\n",
    "## [!] 請同學根據我們提供的ouput格式輸出，否則不予計分，謝謝配合\n",
    "\n",
    "同學名單：Tony, Steve, Thor, Bruce, Natasha, Strange, Wanda, Scott, Quill, Pepper, Groot, T'Challa\n",
    "\n",
    "考試成績：100, 75, 55, 100, 85, 100, 83, 80, 60, 95, 10, 90"
   ]
  },
  {
   "cell_type": "markdown",
   "metadata": {},
   "source": [
    "#### 1. 使用input()，輸入考試同學與成績，存成兩個陣列\n",
    "\n",
    "輸入格式：\n",
    "students = \"Tony, Steve, Thor, Bruce, Natasha, Strange, Wanda, Scott, Quill, Pepper, Groot, T'Challa\"</br>\n",
    "scores = \"100, 75, 55, 100, 85, 100, 83, 80, 60, 95, 10, 90\"</br>\n",
    "\n",
    "請只用「兩個」input來分別讀取上述兩個字串並轉換為陣列（不要一個一個input讀取）</br>\n",
    "hint: 用input讀取後可先split(', ')再存進陣列"
   ]
  },
  {
   "cell_type": "raw",
   "metadata": {},
   "source": [
    "output格式：\n",
    "\n",
    "student:\n",
    "['Tony', 'Steve', 'Thor', ...]\n",
    "score:\n",
    "[100, 75, 55, ...]"
   ]
  },
  {
   "cell_type": "code",
   "execution_count": 14,
   "metadata": {},
   "outputs": [
    {
     "name": "stdout",
     "output_type": "stream",
     "text": [
      "please enter students' nameTony, Steve, Thor, Bruce, Natasha, Strange, Wanda, Scott, Quill, Pepper, Groot, T'Challa\n",
      "please enter scores100, 75, 55, 100, 85, 100, 83, 80, 60, 95, 10, 90\n"
     ]
    }
   ],
   "source": [
    "student = input(\"please enter students' name\")\n",
    "score = input(\"please enter scores\")"
   ]
  },
  {
   "cell_type": "code",
   "execution_count": 15,
   "metadata": {},
   "outputs": [
    {
     "name": "stdout",
     "output_type": "stream",
     "text": [
      "student:\n",
      "['Tony', ' Steve', ' Thor', ' Bruce', ' Natasha', ' Strange', ' Wanda', ' Scott', ' Quill', ' Pepper', ' Groot', \" T'Challa\"]\n",
      "score:\n",
      "[100, 75, 55, 100, 85, 100, 83, 80, 60, 95, 10, 90]\n"
     ]
    }
   ],
   "source": [
    "student = student.split(',')\n",
    "score = score.split(',')\n",
    "score = list(map(int, score))\n",
    "print('student:')\n",
    "print(student)\n",
    "print('score:')\n",
    "print(score)\n"
   ]
  },
  {
   "cell_type": "code",
   "execution_count": 19,
   "metadata": {},
   "outputs": [
    {
     "data": {
      "text/plain": [
       "100"
      ]
     },
     "execution_count": 19,
     "metadata": {},
     "output_type": "execute_result"
    }
   ],
   "source": [
    "score[0]"
   ]
  },
  {
   "cell_type": "markdown",
   "metadata": {},
   "source": [
    "#### 2. 把兩個陣列，建成字典。\n",
    "{'Tony': 100, 'Steve': 75, ...}\n",
    "\n",
    "{100: ['Tony', 'Bruce', 'Strange'], 95:['Pepper'], ...}"
   ]
  },
  {
   "cell_type": "raw",
   "metadata": {},
   "source": [
    "output格式：\n",
    "\n",
    "直接用兩個cell output出兩個字典內容\n",
    "\n",
    "eg.\n",
    "cell1輸入：dict1_name\n",
    "執行完會output出如下結果：\n",
    "defaultdict(int,\n",
    "            {'Tony': 100,\n",
    "             'Steve': 75,\n",
    "             'Thor': 55,\n",
    "             'Bruce': 100,\n",
    "             'Natasha': 85,\n",
    "             'Strange': 100,\n",
    "             'Wanda': 83,\n",
    "             'Scott': 80,\n",
    "             'Quill': 60,\n",
    "             'Pepper': 95,\n",
    "             'Groot': 10,\n",
    "             \"T'Challa\": 90})\n",
    "             \n",
    "cell2輸入：dict2_name\n",
    "執行完會output出如下結果：\n",
    "defaultdict(list,\n",
    "            {100: ['Tony', 'Bruce', 'Strange'],\n",
    "             75: ['Steve'],\n",
    "             55: ['Thor'],\n",
    "             85: ['Natasha'],\n",
    "             83: ['Wanda'],\n",
    "             80: ['Scott'],\n",
    "             60: ['Quill'],\n",
    "             95: ['Pepper'],\n",
    "             10: ['Groot'],\n",
    "             90: [\"T'Challa\"]})"
   ]
  },
  {
   "cell_type": "code",
   "execution_count": 22,
   "metadata": {},
   "outputs": [
    {
     "ename": "SyntaxError",
     "evalue": "invalid syntax (<ipython-input-22-c9a57c651ac5>, line 4)",
     "output_type": "error",
     "traceback": [
      "\u001b[0;36m  File \u001b[0;32m\"<ipython-input-22-c9a57c651ac5>\"\u001b[0;36m, line \u001b[0;32m4\u001b[0m\n\u001b[0;31m    dict1_name.update{student[i]: score[i]}\u001b[0m\n\u001b[0m                     ^\u001b[0m\n\u001b[0;31mSyntaxError\u001b[0m\u001b[0;31m:\u001b[0m invalid syntax\n"
     ]
    }
   ],
   "source": [
    "from collections import defaultdict\n",
    "dict1_name= defaultdict(int)\n",
    "for i in range(len(student)):\n",
    "    dict1_name.update{student[i] : score[i]}\n",
    "dict1_name"
   ]
  },
  {
   "cell_type": "markdown",
   "metadata": {},
   "source": [
    "#### 3. 列出分數前三名的同學名字與考試分數\n",
    "\n",
    "- sorted 分數\n",
    "- 取出前三個分數\n",
    "- 取出考前三高的學生"
   ]
  },
  {
   "cell_type": "raw",
   "metadata": {},
   "source": [
    "output格式：\n",
    "\n",
    "1. name( name name ...) score\n",
    "2. name( name name ...) score\n",
    "3. name( name name ...) score\n",
    "\n",
    "** 如果同分的人數有多個就用空格區分，不用加括號\n",
    "eg.\n",
    "1. Tony Charlie 95\n",
    "1. Charles 80\n",
    "1. Jocelyn Kelly 75"
   ]
  },
  {
   "cell_type": "code",
   "execution_count": null,
   "metadata": {},
   "outputs": [],
   "source": []
  },
  {
   "cell_type": "markdown",
   "metadata": {},
   "source": [
    "#### 2. 請計算全班同學的平均分數，與最高最低分的分數\n",
    "請將算出來的分數轉為float型別（也就是如果是整數的話，eg. 100，就會變成100.0）"
   ]
  },
  {
   "cell_type": "raw",
   "metadata": {},
   "source": [
    "output格式：\n",
    "\n",
    "avg: 分數\n",
    "max: 分數\n",
    "min: 分數 "
   ]
  },
  {
   "cell_type": "code",
   "execution_count": null,
   "metadata": {},
   "outputs": [],
   "source": []
  },
  {
   "cell_type": "markdown",
   "metadata": {},
   "source": [
    "#### 3. 將全班同學的分數做normalize，然後將原本的字典中的分數改為normalize後的分數\n",
    "*** normalize的算法： (x-min)/(max-min)"
   ]
  },
  {
   "cell_type": "raw",
   "metadata": {},
   "source": [
    "output格式：\n",
    "\n",
    "同學名字 新的分數\n",
    "同學名字 新的分數\n",
    "同學名字 新的分數\n",
    "...etc"
   ]
  },
  {
   "cell_type": "code",
   "execution_count": null,
   "metadata": {},
   "outputs": [],
   "source": []
  }
 ],
 "metadata": {
  "kernelspec": {
   "display_name": "Python 3",
   "language": "python",
   "name": "python3"
  },
  "language_info": {
   "codemirror_mode": {
    "name": "ipython",
    "version": 3
   },
   "file_extension": ".py",
   "mimetype": "text/x-python",
   "name": "python",
   "nbconvert_exporter": "python",
   "pygments_lexer": "ipython3",
   "version": "3.7.0"
  }
 },
 "nbformat": 4,
 "nbformat_minor": 2
}
